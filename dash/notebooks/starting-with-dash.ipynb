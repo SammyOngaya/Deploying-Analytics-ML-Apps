{
 "cells": [
  {
   "cell_type": "markdown",
   "metadata": {},
   "source": [
    "This notebook demonstrates on how to create various visualizations using dash bootstrap"
   ]
  },
  {
   "cell_type": "markdown",
   "metadata": {},
   "source": [
    "Import required libraries"
   ]
  },
  {
   "cell_type": "code",
   "execution_count": 1,
   "metadata": {},
   "outputs": [],
   "source": [
    "import dash\n",
    "import dash_core_components as dcc\n",
    "import dash_html_components as html\n",
    "import plotly.express as px\n",
    "import plotly.graph_objects as go\n",
    "import pandas as pd"
   ]
  },
  {
   "cell_type": "markdown",
   "metadata": {},
   "source": [
    "Define external stylesheets and dash app"
   ]
  },
  {
   "cell_type": "code",
   "execution_count": 2,
   "metadata": {},
   "outputs": [],
   "source": [
    "external_stylesheets = ['https://codepen.io/chriddyp/pen/bWLwgP.css']\n",
    "app = dash.Dash(__name__, external_stylesheets=external_stylesheets)"
   ]
  },
  {
   "cell_type": "markdown",
   "metadata": {},
   "source": [
    "Load/Create the data"
   ]
  },
  {
   "cell_type": "code",
   "execution_count": 3,
   "metadata": {},
   "outputs": [],
   "source": [
    "df = pd.DataFrame({\n",
    "    \"Fruit\": [\"Apples\", \"Oranges\", \"Bananas\", \"Apples\", \"Oranges\", \"Bananas\"],\n",
    "    \"Amount\": [4, 1, 2, 2, 4, 5],\n",
    "    \"City\": [\"SF\", \"SF\", \"SF\", \"Montreal\", \"Montreal\", \"Montreal\"]\n",
    "})"
   ]
  },
  {
   "cell_type": "code",
   "execution_count": 4,
   "metadata": {},
   "outputs": [
    {
     "data": {
      "text/html": [
       "<div>\n",
       "<style scoped>\n",
       "    .dataframe tbody tr th:only-of-type {\n",
       "        vertical-align: middle;\n",
       "    }\n",
       "\n",
       "    .dataframe tbody tr th {\n",
       "        vertical-align: top;\n",
       "    }\n",
       "\n",
       "    .dataframe thead th {\n",
       "        text-align: right;\n",
       "    }\n",
       "</style>\n",
       "<table border=\"1\" class=\"dataframe\">\n",
       "  <thead>\n",
       "    <tr style=\"text-align: right;\">\n",
       "      <th></th>\n",
       "      <th>Fruit</th>\n",
       "      <th>Amount</th>\n",
       "      <th>City</th>\n",
       "    </tr>\n",
       "  </thead>\n",
       "  <tbody>\n",
       "    <tr>\n",
       "      <th>0</th>\n",
       "      <td>Apples</td>\n",
       "      <td>4</td>\n",
       "      <td>SF</td>\n",
       "    </tr>\n",
       "    <tr>\n",
       "      <th>1</th>\n",
       "      <td>Oranges</td>\n",
       "      <td>1</td>\n",
       "      <td>SF</td>\n",
       "    </tr>\n",
       "    <tr>\n",
       "      <th>2</th>\n",
       "      <td>Bananas</td>\n",
       "      <td>2</td>\n",
       "      <td>SF</td>\n",
       "    </tr>\n",
       "    <tr>\n",
       "      <th>3</th>\n",
       "      <td>Apples</td>\n",
       "      <td>2</td>\n",
       "      <td>Montreal</td>\n",
       "    </tr>\n",
       "    <tr>\n",
       "      <th>4</th>\n",
       "      <td>Oranges</td>\n",
       "      <td>4</td>\n",
       "      <td>Montreal</td>\n",
       "    </tr>\n",
       "    <tr>\n",
       "      <th>5</th>\n",
       "      <td>Bananas</td>\n",
       "      <td>5</td>\n",
       "      <td>Montreal</td>\n",
       "    </tr>\n",
       "  </tbody>\n",
       "</table>\n",
       "</div>"
      ],
      "text/plain": [
       "     Fruit  Amount      City\n",
       "0   Apples       4        SF\n",
       "1  Oranges       1        SF\n",
       "2  Bananas       2        SF\n",
       "3   Apples       2  Montreal\n",
       "4  Oranges       4  Montreal\n",
       "5  Bananas       5  Montreal"
      ]
     },
     "execution_count": 4,
     "metadata": {},
     "output_type": "execute_result"
    }
   ],
   "source": [
    "df.head(10)"
   ]
  },
  {
   "cell_type": "code",
   "execution_count": 5,
   "metadata": {},
   "outputs": [],
   "source": [
    "df_fruit = pd.DataFrame({\n",
    "    \"Fruit\": [\"Apples\", \"Oranges\", \"Bananas\"],\n",
    "    \"Amount\": [4, 1, 2]\n",
    "})"
   ]
  },
  {
   "cell_type": "code",
   "execution_count": 6,
   "metadata": {},
   "outputs": [
    {
     "data": {
      "text/html": [
       "<div>\n",
       "<style scoped>\n",
       "    .dataframe tbody tr th:only-of-type {\n",
       "        vertical-align: middle;\n",
       "    }\n",
       "\n",
       "    .dataframe tbody tr th {\n",
       "        vertical-align: top;\n",
       "    }\n",
       "\n",
       "    .dataframe thead th {\n",
       "        text-align: right;\n",
       "    }\n",
       "</style>\n",
       "<table border=\"1\" class=\"dataframe\">\n",
       "  <thead>\n",
       "    <tr style=\"text-align: right;\">\n",
       "      <th></th>\n",
       "      <th>Fruit</th>\n",
       "      <th>Amount</th>\n",
       "    </tr>\n",
       "  </thead>\n",
       "  <tbody>\n",
       "    <tr>\n",
       "      <th>0</th>\n",
       "      <td>Apples</td>\n",
       "      <td>4</td>\n",
       "    </tr>\n",
       "    <tr>\n",
       "      <th>1</th>\n",
       "      <td>Oranges</td>\n",
       "      <td>1</td>\n",
       "    </tr>\n",
       "    <tr>\n",
       "      <th>2</th>\n",
       "      <td>Bananas</td>\n",
       "      <td>2</td>\n",
       "    </tr>\n",
       "  </tbody>\n",
       "</table>\n",
       "</div>"
      ],
      "text/plain": [
       "     Fruit  Amount\n",
       "0   Apples       4\n",
       "1  Oranges       1\n",
       "2  Bananas       2"
      ]
     },
     "execution_count": 6,
     "metadata": {},
     "output_type": "execute_result"
    }
   ],
   "source": [
    "df_fruit.head()"
   ]
  },
  {
   "cell_type": "markdown",
   "metadata": {},
   "source": [
    "Define the visualization"
   ]
  },
  {
   "cell_type": "code",
   "execution_count": null,
   "metadata": {},
   "outputs": [],
   "source": [
    "barchart=px.bar(df_fruit,x='Fruit',y='Amount',text='Amount',color='Amount')\n",
    "barchart.update_layout(barmode='stack', xaxis={'categoryorder':'category descending'})\n",
    "horizontal_barchart=px.bar(df_fruit,y='Fruit',x='Amount',text='Amount',orientation='h')\n",
    "grouped_barchart=px.bar(df,x='Fruit',y='Amount',color='City',barmode='group',text='Amount')\n",
    "stacked_barchart=px.bar(df,x='Fruit',y='Amount',color='City',barmode='stack',text='Amount')\n",
    "\n",
    "pie_chart = px.pie(df, values='Amount', names='Fruit')\n",
    "doughnut_pie_chart = go.Figure(data=[go.Pie(labels=df['Fruit'].tolist(), values=df['Amount'].tolist(), hole=.3)])\n",
    "# donought pie chart with text at center\n",
    "doughnut_pie_chart_with_center = go.Figure(data=[go.Pie(labels=df['Fruit'].tolist(), values=df['Amount'].tolist(), hole=.3)])\n",
    "doughnut_pie_chart_with_center.update_layout(title_text=\"Fruit Prices\",\n",
    "    annotations=[dict(text='Fruits',  font_size=20, showarrow=False)])\n"
   ]
  },
  {
   "cell_type": "markdown",
   "metadata": {},
   "source": [
    "Create the vsualization in html"
   ]
  },
  {
   "cell_type": "code",
   "execution_count": null,
   "metadata": {},
   "outputs": [],
   "source": [
    "app.layout=html.Div(children=[\n",
    "    html.H1(children='First Dash App'),\n",
    "    html.H2(children='1. Bar Chart'),\n",
    "    \n",
    "    dcc.Graph(\n",
    "    id='bar-graph',\n",
    "    figure=barchart\n",
    "    ),\n",
    "    \n",
    "    html.H2(children='1. Horizontal Bar Chart'),\n",
    "    dcc.Graph(\n",
    "    id='horizontal-bar-graph',\n",
    "    figure=horizontal_barchart\n",
    "    ),\n",
    "    \n",
    "    html.H2(children='1. Grouped Bar Chart'),\n",
    "    dcc.Graph(\n",
    "    id='grouped-bar-graph',\n",
    "    figure=grouped_barchart\n",
    "    ),\n",
    "    \n",
    "    html.H2(children='2. Stacked Bar Chart'),\n",
    "    dcc.Graph(\n",
    "    id='stacked-bar-graph',\n",
    "    figure=stacked_barchart\n",
    "    ),\n",
    "    \n",
    "    html.H2(children='3. Pie Chart'),\n",
    "    dcc.Graph(\n",
    "    id='pie-graph',\n",
    "    figure=pie_chart\n",
    "    ),\n",
    "    \n",
    "    html.H2(children='4. Donought Pie Chart'),\n",
    "    dcc.Graph(\n",
    "    id='donought-pie-graph',\n",
    "    figure=doughnut_pie_chart\n",
    "    ),\n",
    "    \n",
    "    html.H2(children='5. Donought Pie Chart with text at center'),\n",
    "    dcc.Graph(\n",
    "    id='donought-pie-graph-with-center-text',\n",
    "    figure=doughnut_pie_chart_with_center\n",
    "    )    \n",
    "])"
   ]
  },
  {
   "cell_type": "markdown",
   "metadata": {},
   "source": [
    "Run the dash server"
   ]
  },
  {
   "cell_type": "code",
   "execution_count": null,
   "metadata": {},
   "outputs": [],
   "source": [
    "if __name__ == '__main__':\n",
    "    app.run_server(debug=False)"
   ]
  },
  {
   "cell_type": "code",
   "execution_count": null,
   "metadata": {},
   "outputs": [],
   "source": []
  }
 ],
 "metadata": {
  "kernelspec": {
   "display_name": "Python 3",
   "language": "python",
   "name": "python3"
  },
  "language_info": {
   "codemirror_mode": {
    "name": "ipython",
    "version": 3
   },
   "file_extension": ".py",
   "mimetype": "text/x-python",
   "name": "python",
   "nbconvert_exporter": "python",
   "pygments_lexer": "ipython3",
   "version": "3.6.5"
  }
 },
 "nbformat": 4,
 "nbformat_minor": 2
}
