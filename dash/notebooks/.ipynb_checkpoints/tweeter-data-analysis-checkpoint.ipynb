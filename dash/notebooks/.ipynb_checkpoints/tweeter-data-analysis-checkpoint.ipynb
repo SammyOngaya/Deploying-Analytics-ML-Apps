{
 "cells": [
  {
   "cell_type": "markdown",
   "metadata": {},
   "source": [
    "This notebook demonstrate how to perform various analytics on tweeter tweets data"
   ]
  },
  {
   "cell_type": "markdown",
   "metadata": {},
   "source": [
    "Install dependencies"
   ]
  },
  {
   "cell_type": "code",
   "execution_count": 1,
   "metadata": {},
   "outputs": [],
   "source": [
    "# !pip install dash-bootstrap-components\n",
    "# !pip install dash-renderer"
   ]
  },
  {
   "cell_type": "markdown",
   "metadata": {},
   "source": [
    "Import required libraries"
   ]
  },
  {
   "cell_type": "code",
   "execution_count": 2,
   "metadata": {},
   "outputs": [],
   "source": [
    "import dash\n",
    "import dash_bootstrap_components as dbc\n",
    "import plotly.graph_objects as go\n",
    "import dash_html_components as html\n",
    "\n",
    "import pandas as pd"
   ]
  },
  {
   "cell_type": "code",
   "execution_count": 3,
   "metadata": {},
   "outputs": [],
   "source": [
    "app = dash.Dash(__name__, external_stylesheets=[dbc.themes.BOOTSTRAP])"
   ]
  },
  {
   "cell_type": "code",
   "execution_count": 4,
   "metadata": {},
   "outputs": [],
   "source": [
    "df=pd.read_csv(\"../datasets/tweets.csv\")"
   ]
  },
  {
   "cell_type": "code",
   "execution_count": 5,
   "metadata": {},
   "outputs": [
    {
     "data": {
      "text/html": [
       "<div>\n",
       "<style scoped>\n",
       "    .dataframe tbody tr th:only-of-type {\n",
       "        vertical-align: middle;\n",
       "    }\n",
       "\n",
       "    .dataframe tbody tr th {\n",
       "        vertical-align: top;\n",
       "    }\n",
       "\n",
       "    .dataframe thead th {\n",
       "        text-align: right;\n",
       "    }\n",
       "</style>\n",
       "<table border=\"1\" class=\"dataframe\">\n",
       "  <thead>\n",
       "    <tr style=\"text-align: right;\">\n",
       "      <th></th>\n",
       "      <th>Unnamed: 0</th>\n",
       "      <th>screen_name</th>\n",
       "      <th>name</th>\n",
       "      <th>user_verification</th>\n",
       "      <th>followers_count</th>\n",
       "      <th>friends_count</th>\n",
       "      <th>listed_count</th>\n",
       "      <th>retweet_count</th>\n",
       "      <th>favorite_count</th>\n",
       "      <th>retweeted</th>\n",
       "      <th>entities</th>\n",
       "      <th>favourites_count</th>\n",
       "      <th>location</th>\n",
       "      <th>created_at</th>\n",
       "      <th>text</th>\n",
       "      <th>clean_text</th>\n",
       "      <th>sentiment_polarity</th>\n",
       "      <th>sentiment_subjectivity</th>\n",
       "    </tr>\n",
       "  </thead>\n",
       "  <tbody>\n",
       "    <tr>\n",
       "      <th>0</th>\n",
       "      <td>0</td>\n",
       "      <td>h1llbillies</td>\n",
       "      <td>Luddite 🇬🇧🇪🇺 #3.5% Ex NHS</td>\n",
       "      <td>False</td>\n",
       "      <td>4332</td>\n",
       "      <td>5000</td>\n",
       "      <td>50</td>\n",
       "      <td>87</td>\n",
       "      <td>0</td>\n",
       "      <td>False</td>\n",
       "      <td>{'hashtags': [{'text': 'COVID', 'indices': [10...</td>\n",
       "      <td>148949</td>\n",
       "      <td>NaN</td>\n",
       "      <td>2021-01-28 16:38:49</td>\n",
       "      <td>RT @_NatashaDevon: ‘Every time you tweet, like...</td>\n",
       "      <td>‘Every time you tweet, like, or share somethi...</td>\n",
       "      <td>0.000000</td>\n",
       "      <td>0.000000</td>\n",
       "    </tr>\n",
       "    <tr>\n",
       "      <th>1</th>\n",
       "      <td>1</td>\n",
       "      <td>jfinn6511</td>\n",
       "      <td>James Finn</td>\n",
       "      <td>False</td>\n",
       "      <td>16410</td>\n",
       "      <td>18038</td>\n",
       "      <td>54</td>\n",
       "      <td>1</td>\n",
       "      <td>0</td>\n",
       "      <td>False</td>\n",
       "      <td>{'hashtags': [{'text': 'Covid', 'indices': [32...</td>\n",
       "      <td>42844</td>\n",
       "      <td>NaN</td>\n",
       "      <td>2021-01-28 16:38:47</td>\n",
       "      <td>RT @akfullerton: @jfinn6511 The #Covid pandemi...</td>\n",
       "      <td>The Covid pandemic is triggering lots of HIV...</td>\n",
       "      <td>0.458333</td>\n",
       "      <td>0.541667</td>\n",
       "    </tr>\n",
       "    <tr>\n",
       "      <th>2</th>\n",
       "      <td>2</td>\n",
       "      <td>napernurse</td>\n",
       "      <td>Dawn Mckinney, RN, MSN</td>\n",
       "      <td>False</td>\n",
       "      <td>6448</td>\n",
       "      <td>5063</td>\n",
       "      <td>483</td>\n",
       "      <td>0</td>\n",
       "      <td>0</td>\n",
       "      <td>False</td>\n",
       "      <td>{'hashtags': [{'text': 'COVID', 'indices': [0,...</td>\n",
       "      <td>49223</td>\n",
       "      <td>Naperville, IL</td>\n",
       "      <td>2021-01-28 16:38:38</td>\n",
       "      <td>#COVID-19 #reinfection tracker - BNO News #Med...</td>\n",
       "      <td>COVID-19 reinfection tracker - BNO News MedTwi...</td>\n",
       "      <td>0.000000</td>\n",
       "      <td>0.000000</td>\n",
       "    </tr>\n",
       "    <tr>\n",
       "      <th>3</th>\n",
       "      <td>3</td>\n",
       "      <td>psycho_gingerr</td>\n",
       "      <td>Psycho_gingerr</td>\n",
       "      <td>False</td>\n",
       "      <td>0</td>\n",
       "      <td>0</td>\n",
       "      <td>0</td>\n",
       "      <td>0</td>\n",
       "      <td>0</td>\n",
       "      <td>False</td>\n",
       "      <td>{'hashtags': [{'text': 'COVID19', 'indices': [...</td>\n",
       "      <td>0</td>\n",
       "      <td>NaN</td>\n",
       "      <td>2021-01-28 16:38:38</td>\n",
       "      <td>Corona or no Corona\\nbetter stay away from peo...</td>\n",
       "      <td>Corona or no Corona\\nbetter stay away from peo...</td>\n",
       "      <td>0.625000</td>\n",
       "      <td>0.500000</td>\n",
       "    </tr>\n",
       "    <tr>\n",
       "      <th>4</th>\n",
       "      <td>4</td>\n",
       "      <td>Tanya60799699</td>\n",
       "      <td>Tanya Kansara</td>\n",
       "      <td>False</td>\n",
       "      <td>54</td>\n",
       "      <td>733</td>\n",
       "      <td>0</td>\n",
       "      <td>4</td>\n",
       "      <td>0</td>\n",
       "      <td>False</td>\n",
       "      <td>{'hashtags': [{'text': 'COVID', 'indices': [68...</td>\n",
       "      <td>482</td>\n",
       "      <td>NaN</td>\n",
       "      <td>2021-01-28 16:38:34</td>\n",
       "      <td>RT @gianthealthevnt: GIANT Health is launching...</td>\n",
       "      <td>GIANT Health is launching an important, globa...</td>\n",
       "      <td>0.133333</td>\n",
       "      <td>0.666667</td>\n",
       "    </tr>\n",
       "  </tbody>\n",
       "</table>\n",
       "</div>"
      ],
      "text/plain": [
       "   Unnamed: 0     screen_name                       name  user_verification  \\\n",
       "0           0     h1llbillies  Luddite 🇬🇧🇪🇺 #3.5% Ex NHS              False   \n",
       "1           1       jfinn6511                 James Finn              False   \n",
       "2           2      napernurse     Dawn Mckinney, RN, MSN              False   \n",
       "3           3  psycho_gingerr             Psycho_gingerr              False   \n",
       "4           4   Tanya60799699              Tanya Kansara              False   \n",
       "\n",
       "   followers_count  friends_count  listed_count  retweet_count  \\\n",
       "0             4332           5000            50             87   \n",
       "1            16410          18038            54              1   \n",
       "2             6448           5063           483              0   \n",
       "3                0              0             0              0   \n",
       "4               54            733             0              4   \n",
       "\n",
       "   favorite_count  retweeted  \\\n",
       "0               0      False   \n",
       "1               0      False   \n",
       "2               0      False   \n",
       "3               0      False   \n",
       "4               0      False   \n",
       "\n",
       "                                            entities  favourites_count  \\\n",
       "0  {'hashtags': [{'text': 'COVID', 'indices': [10...            148949   \n",
       "1  {'hashtags': [{'text': 'Covid', 'indices': [32...             42844   \n",
       "2  {'hashtags': [{'text': 'COVID', 'indices': [0,...             49223   \n",
       "3  {'hashtags': [{'text': 'COVID19', 'indices': [...                 0   \n",
       "4  {'hashtags': [{'text': 'COVID', 'indices': [68...               482   \n",
       "\n",
       "         location           created_at  \\\n",
       "0             NaN  2021-01-28 16:38:49   \n",
       "1             NaN  2021-01-28 16:38:47   \n",
       "2  Naperville, IL  2021-01-28 16:38:38   \n",
       "3             NaN  2021-01-28 16:38:38   \n",
       "4             NaN  2021-01-28 16:38:34   \n",
       "\n",
       "                                                text  \\\n",
       "0  RT @_NatashaDevon: ‘Every time you tweet, like...   \n",
       "1  RT @akfullerton: @jfinn6511 The #Covid pandemi...   \n",
       "2  #COVID-19 #reinfection tracker - BNO News #Med...   \n",
       "3  Corona or no Corona\\nbetter stay away from peo...   \n",
       "4  RT @gianthealthevnt: GIANT Health is launching...   \n",
       "\n",
       "                                          clean_text  sentiment_polarity  \\\n",
       "0   ‘Every time you tweet, like, or share somethi...            0.000000   \n",
       "1    The Covid pandemic is triggering lots of HIV...            0.458333   \n",
       "2  COVID-19 reinfection tracker - BNO News MedTwi...            0.000000   \n",
       "3  Corona or no Corona\\nbetter stay away from peo...            0.625000   \n",
       "4   GIANT Health is launching an important, globa...            0.133333   \n",
       "\n",
       "   sentiment_subjectivity  \n",
       "0                0.000000  \n",
       "1                0.541667  \n",
       "2                0.000000  \n",
       "3                0.500000  \n",
       "4                0.666667  "
      ]
     },
     "execution_count": 5,
     "metadata": {},
     "output_type": "execute_result"
    }
   ],
   "source": [
    "df.head()"
   ]
  },
  {
   "cell_type": "code",
   "execution_count": 6,
   "metadata": {},
   "outputs": [
    {
     "data": {
      "text/plain": [
       "Index(['Unnamed: 0', 'screen_name', 'name', 'user_verification',\n",
       "       'followers_count', 'friends_count', 'listed_count', 'retweet_count',\n",
       "       'favorite_count', 'retweeted', 'entities', 'favourites_count',\n",
       "       'location', 'created_at', 'text', 'clean_text', 'sentiment_polarity',\n",
       "       'sentiment_subjectivity'],\n",
       "      dtype='object')"
      ]
     },
     "execution_count": 6,
     "metadata": {},
     "output_type": "execute_result"
    }
   ],
   "source": [
    "df.columns"
   ]
  },
  {
   "cell_type": "markdown",
   "metadata": {},
   "source": [
    "Number of tweets"
   ]
  },
  {
   "cell_type": "code",
   "execution_count": 7,
   "metadata": {},
   "outputs": [
    {
     "data": {
      "text/plain": [
       "2578"
      ]
     },
     "execution_count": 7,
     "metadata": {},
     "output_type": "execute_result"
    }
   ],
   "source": [
    "number_of_tweets=df['name'].count()\n",
    "number_of_tweets"
   ]
  },
  {
   "cell_type": "markdown",
   "metadata": {},
   "source": [
    "Likes"
   ]
  },
  {
   "cell_type": "code",
   "execution_count": 8,
   "metadata": {},
   "outputs": [
    {
     "data": {
      "text/plain": [
       "71.1"
      ]
     },
     "execution_count": 8,
     "metadata": {},
     "output_type": "execute_result"
    }
   ],
   "source": [
    "favourites_count=round(df['favourites_count'].sum()/1000000,2)\n",
    "favourites_count"
   ]
  },
  {
   "cell_type": "markdown",
   "metadata": {},
   "source": [
    "Users Tweet"
   ]
  },
  {
   "cell_type": "code",
   "execution_count": 9,
   "metadata": {},
   "outputs": [
    {
     "data": {
      "text/plain": [
       "2375"
      ]
     },
     "execution_count": 9,
     "metadata": {},
     "output_type": "execute_result"
    }
   ],
   "source": [
    "users_count=df['name'].nunique()\n",
    "users_count"
   ]
  },
  {
   "cell_type": "markdown",
   "metadata": {},
   "source": [
    "Sentiment polarity"
   ]
  },
  {
   "cell_type": "code",
   "execution_count": 10,
   "metadata": {},
   "outputs": [
    {
     "data": {
      "text/plain": [
       "0.08"
      ]
     },
     "execution_count": 10,
     "metadata": {},
     "output_type": "execute_result"
    }
   ],
   "source": [
    "sentiment_polarity=round(df['sentiment_polarity'].mean(),2)\n",
    "sentiment_polarity"
   ]
  },
  {
   "cell_type": "markdown",
   "metadata": {},
   "source": [
    "Sentiment polarity and subjectivity line graph"
   ]
  },
  {
   "cell_type": "code",
   "execution_count": 12,
   "metadata": {},
   "outputs": [
    {
     "ename": "NameError",
     "evalue": "name 'go' is not defined",
     "output_type": "error",
     "traceback": [
      "\u001b[1;31m---------------------------------------------------------------------------\u001b[0m",
      "\u001b[1;31mNameError\u001b[0m                                 Traceback (most recent call last)",
      "\u001b[1;32m<ipython-input-12-7db64e913cbc>\u001b[0m in \u001b[0;36m<module>\u001b[1;34m()\u001b[0m\n\u001b[0;32m      2\u001b[0m \u001b[1;31m#     column_width=[0.8, 0.4],horizontal_spacing=0)\u001b[0m\u001b[1;33m\u001b[0m\u001b[1;33m\u001b[0m\u001b[0m\n\u001b[0;32m      3\u001b[0m \u001b[1;33m\u001b[0m\u001b[0m\n\u001b[1;32m----> 4\u001b[1;33m \u001b[0mfig\u001b[0m\u001b[1;33m=\u001b[0m\u001b[0mgo\u001b[0m\u001b[1;33m.\u001b[0m\u001b[0mFigure\u001b[0m\u001b[1;33m(\u001b[0m\u001b[1;33m)\u001b[0m\u001b[1;33m\u001b[0m\u001b[0m\n\u001b[0m\u001b[0;32m      5\u001b[0m \u001b[1;33m\u001b[0m\u001b[0m\n\u001b[0;32m      6\u001b[0m \u001b[0mfig\u001b[0m\u001b[1;33m.\u001b[0m\u001b[0madd_trace\u001b[0m\u001b[1;33m(\u001b[0m\u001b[0mgo\u001b[0m\u001b[1;33m.\u001b[0m\u001b[0mScatter\u001b[0m\u001b[1;33m(\u001b[0m\u001b[0mx\u001b[0m\u001b[1;33m=\u001b[0m\u001b[0mdf\u001b[0m\u001b[1;33m[\u001b[0m\u001b[1;34m'created_at'\u001b[0m\u001b[1;33m]\u001b[0m\u001b[1;33m,\u001b[0m \u001b[0my\u001b[0m\u001b[1;33m=\u001b[0m\u001b[0mdf\u001b[0m\u001b[1;33m[\u001b[0m\u001b[1;34m'sentiment_polarity'\u001b[0m\u001b[1;33m]\u001b[0m\u001b[1;33m,\u001b[0m \u001b[0mname\u001b[0m\u001b[1;33m=\u001b[0m\u001b[1;34m'Sentiment'\u001b[0m\u001b[1;33m,\u001b[0m\u001b[0mline\u001b[0m \u001b[1;33m=\u001b[0m \u001b[0mdict\u001b[0m\u001b[1;33m(\u001b[0m\u001b[0mcolor\u001b[0m\u001b[1;33m=\u001b[0m\u001b[1;34m'skyblue'\u001b[0m\u001b[1;33m)\u001b[0m\u001b[1;33m)\u001b[0m\u001b[1;33m)\u001b[0m\u001b[1;33m\u001b[0m\u001b[0m\n",
      "\u001b[1;31mNameError\u001b[0m: name 'go' is not defined"
     ]
    }
   ],
   "source": [
    "# fig = make_subplots(rows=1, cols=2,shared_xaxes=True,vertical_spacing=0.03,specs=[[{\"type\": \"scatter\"},{\"type\": \"table\"}]],\n",
    "#     column_width=[0.8, 0.4],horizontal_spacing=0)\n",
    "\n",
    "fig=go.Figure()\n",
    "\n",
    "fig.add_trace(go.Scatter(x=df['created_at'], y=df['sentiment_polarity'], name='Sentiment',line = dict(color='skyblue'))) \n",
    "# fig.add_trace(go.Scatter(x=df_forecast['ds'], y=df_forecast['yhat'], name='Trend',line = dict(color='orange')),row=1, col=1)\n",
    "\n",
    "\n",
    "\n",
    "fig.update_layout(dict(xaxis=dict(title = 'Period', ticklen=2, zeroline=False)))\n",
    "# fig.update_layout(legend=dict(yanchor=\"top\",y=0.99,xanchor=\"left\",x=0.01),title={'text': \"Amazon\",'y':0.75,'x':0.4,'xanchor': 'center','yanchor': 'middle'})\n",
    "\n",
    "fig.show()"
   ]
  },
  {
   "cell_type": "markdown",
   "metadata": {},
   "source": [
    "Run Dash Server"
   ]
  },
  {
   "cell_type": "code",
   "execution_count": null,
   "metadata": {},
   "outputs": [],
   "source": [
    "# if __name__ == '__main__':\n",
    "#     app.run_server(debug=False)"
   ]
  },
  {
   "cell_type": "code",
   "execution_count": null,
   "metadata": {},
   "outputs": [],
   "source": []
  },
  {
   "cell_type": "code",
   "execution_count": null,
   "metadata": {},
   "outputs": [],
   "source": []
  }
 ],
 "metadata": {
  "kernelspec": {
   "display_name": "Python 3",
   "language": "python",
   "name": "python3"
  },
  "language_info": {
   "codemirror_mode": {
    "name": "ipython",
    "version": 3
   },
   "file_extension": ".py",
   "mimetype": "text/x-python",
   "name": "python",
   "nbconvert_exporter": "python",
   "pygments_lexer": "ipython3",
   "version": "3.6.5"
  }
 },
 "nbformat": 4,
 "nbformat_minor": 2
}
