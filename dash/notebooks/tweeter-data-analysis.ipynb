{
 "cells": [
  {
   "cell_type": "markdown",
   "metadata": {},
   "source": [
    "This notebook demonstrate how to perform various analytics on tweeter tweets data"
   ]
  },
  {
   "cell_type": "markdown",
   "metadata": {},
   "source": [
    "Install dependencies"
   ]
  },
  {
   "cell_type": "code",
   "execution_count": 1,
   "metadata": {},
   "outputs": [],
   "source": [
    "# !pip install dash-bootstrap-components\n",
    "# !pip install dash-renderer"
   ]
  },
  {
   "cell_type": "markdown",
   "metadata": {},
   "source": [
    "Import required libraries"
   ]
  },
  {
   "cell_type": "code",
   "execution_count": 1,
   "metadata": {},
   "outputs": [],
   "source": [
    "import dash\n",
    "import dash_bootstrap_components as dbc\n",
    "import dash_html_components as html\n",
    "\n",
    "import pandas as pd"
   ]
  },
  {
   "cell_type": "code",
   "execution_count": 2,
   "metadata": {},
   "outputs": [],
   "source": [
    "app = dash.Dash(__name__, external_stylesheets=[dbc.themes.BOOTSTRAP])"
   ]
  },
  {
   "cell_type": "code",
   "execution_count": 3,
   "metadata": {},
   "outputs": [],
   "source": [
    "df=pd.read_csv(\"../datasets/tweets.csv\")"
   ]
  },
  {
   "cell_type": "code",
   "execution_count": 4,
   "metadata": {},
   "outputs": [
    {
     "data": {
      "text/html": [
       "<div>\n",
       "<style scoped>\n",
       "    .dataframe tbody tr th:only-of-type {\n",
       "        vertical-align: middle;\n",
       "    }\n",
       "\n",
       "    .dataframe tbody tr th {\n",
       "        vertical-align: top;\n",
       "    }\n",
       "\n",
       "    .dataframe thead th {\n",
       "        text-align: right;\n",
       "    }\n",
       "</style>\n",
       "<table border=\"1\" class=\"dataframe\">\n",
       "  <thead>\n",
       "    <tr style=\"text-align: right;\">\n",
       "      <th></th>\n",
       "      <th>Unnamed: 0</th>\n",
       "      <th>screen_name</th>\n",
       "      <th>name</th>\n",
       "      <th>user_verification</th>\n",
       "      <th>followers_count</th>\n",
       "      <th>friends_count</th>\n",
       "      <th>listed_count</th>\n",
       "      <th>retweet_count</th>\n",
       "      <th>favorite_count</th>\n",
       "      <th>retweeted</th>\n",
       "      <th>entities</th>\n",
       "      <th>favourites_count</th>\n",
       "      <th>location</th>\n",
       "      <th>created_at</th>\n",
       "      <th>text</th>\n",
       "    </tr>\n",
       "  </thead>\n",
       "  <tbody>\n",
       "    <tr>\n",
       "      <th>0</th>\n",
       "      <td>0</td>\n",
       "      <td>ele9061</td>\n",
       "      <td>ele</td>\n",
       "      <td>False</td>\n",
       "      <td>13857</td>\n",
       "      <td>1169</td>\n",
       "      <td>484</td>\n",
       "      <td>1</td>\n",
       "      <td>0</td>\n",
       "      <td>False</td>\n",
       "      <td>{'hashtags': [{'text': 'Covid', 'indices': [11...</td>\n",
       "      <td>52700</td>\n",
       "      <td>world</td>\n",
       "      <td>2021-01-27 18:31:31</td>\n",
       "      <td>RT @iamaweasel: @ele9061 @A_R_TforPEACE Apolog...</td>\n",
       "    </tr>\n",
       "    <tr>\n",
       "      <th>1</th>\n",
       "      <td>1</td>\n",
       "      <td>LynneCabban</td>\n",
       "      <td>Lynne Cabban</td>\n",
       "      <td>False</td>\n",
       "      <td>1524</td>\n",
       "      <td>3623</td>\n",
       "      <td>7</td>\n",
       "      <td>0</td>\n",
       "      <td>0</td>\n",
       "      <td>False</td>\n",
       "      <td>{'hashtags': [{'text': 'Covid', 'indices': [36...</td>\n",
       "      <td>26724</td>\n",
       "      <td>Parkes, New South Wales 🇦🇺</td>\n",
       "      <td>2021-01-27 18:31:30</td>\n",
       "      <td>@ElliotG78 @SeigeCeej An Australian #Covid upd...</td>\n",
       "    </tr>\n",
       "    <tr>\n",
       "      <th>2</th>\n",
       "      <td>2</td>\n",
       "      <td>BarryPodmore</td>\n",
       "      <td>barry podmore</td>\n",
       "      <td>False</td>\n",
       "      <td>178</td>\n",
       "      <td>1330</td>\n",
       "      <td>0</td>\n",
       "      <td>9</td>\n",
       "      <td>0</td>\n",
       "      <td>False</td>\n",
       "      <td>{'hashtags': [{'text': 'covid', 'indices': [21...</td>\n",
       "      <td>2398</td>\n",
       "      <td>NaN</td>\n",
       "      <td>2021-01-27 18:31:27</td>\n",
       "      <td>RT @KailashChandOBE: #covid Meter-\\nDaily case...</td>\n",
       "    </tr>\n",
       "    <tr>\n",
       "      <th>3</th>\n",
       "      <td>3</td>\n",
       "      <td>rnaangos</td>\n",
       "      <td>miki minach</td>\n",
       "      <td>False</td>\n",
       "      <td>206</td>\n",
       "      <td>519</td>\n",
       "      <td>0</td>\n",
       "      <td>1770</td>\n",
       "      <td>0</td>\n",
       "      <td>False</td>\n",
       "      <td>{'hashtags': [{'text': 'COVID', 'indices': [35...</td>\n",
       "      <td>36684</td>\n",
       "      <td>NaN</td>\n",
       "      <td>2021-01-27 18:31:25</td>\n",
       "      <td>RT @Mars_IDS: Spoiler alert: A neg #COVID test...</td>\n",
       "    </tr>\n",
       "    <tr>\n",
       "      <th>4</th>\n",
       "      <td>4</td>\n",
       "      <td>KiddJeri</td>\n",
       "      <td>montagedecor</td>\n",
       "      <td>False</td>\n",
       "      <td>1689</td>\n",
       "      <td>1214</td>\n",
       "      <td>13</td>\n",
       "      <td>3</td>\n",
       "      <td>0</td>\n",
       "      <td>False</td>\n",
       "      <td>{'hashtags': [], 'symbols': [], 'user_mentions...</td>\n",
       "      <td>60607</td>\n",
       "      <td>Maryland, USA</td>\n",
       "      <td>2021-01-27 18:31:24</td>\n",
       "      <td>RT @MaLanterne: Vintage View Master Sawyer wit...</td>\n",
       "    </tr>\n",
       "  </tbody>\n",
       "</table>\n",
       "</div>"
      ],
      "text/plain": [
       "   Unnamed: 0   screen_name           name  user_verification  \\\n",
       "0           0       ele9061            ele              False   \n",
       "1           1   LynneCabban   Lynne Cabban              False   \n",
       "2           2  BarryPodmore  barry podmore              False   \n",
       "3           3      rnaangos    miki minach              False   \n",
       "4           4      KiddJeri   montagedecor              False   \n",
       "\n",
       "   followers_count  friends_count  listed_count  retweet_count  \\\n",
       "0            13857           1169           484              1   \n",
       "1             1524           3623             7              0   \n",
       "2              178           1330             0              9   \n",
       "3              206            519             0           1770   \n",
       "4             1689           1214            13              3   \n",
       "\n",
       "   favorite_count  retweeted  \\\n",
       "0               0      False   \n",
       "1               0      False   \n",
       "2               0      False   \n",
       "3               0      False   \n",
       "4               0      False   \n",
       "\n",
       "                                            entities  favourites_count  \\\n",
       "0  {'hashtags': [{'text': 'Covid', 'indices': [11...             52700   \n",
       "1  {'hashtags': [{'text': 'Covid', 'indices': [36...             26724   \n",
       "2  {'hashtags': [{'text': 'covid', 'indices': [21...              2398   \n",
       "3  {'hashtags': [{'text': 'COVID', 'indices': [35...             36684   \n",
       "4  {'hashtags': [], 'symbols': [], 'user_mentions...             60607   \n",
       "\n",
       "                     location           created_at  \\\n",
       "0                       world  2021-01-27 18:31:31   \n",
       "1  Parkes, New South Wales 🇦🇺  2021-01-27 18:31:30   \n",
       "2                         NaN  2021-01-27 18:31:27   \n",
       "3                         NaN  2021-01-27 18:31:25   \n",
       "4               Maryland, USA  2021-01-27 18:31:24   \n",
       "\n",
       "                                                text  \n",
       "0  RT @iamaweasel: @ele9061 @A_R_TforPEACE Apolog...  \n",
       "1  @ElliotG78 @SeigeCeej An Australian #Covid upd...  \n",
       "2  RT @KailashChandOBE: #covid Meter-\\nDaily case...  \n",
       "3  RT @Mars_IDS: Spoiler alert: A neg #COVID test...  \n",
       "4  RT @MaLanterne: Vintage View Master Sawyer wit...  "
      ]
     },
     "execution_count": 4,
     "metadata": {},
     "output_type": "execute_result"
    }
   ],
   "source": [
    "df.head()"
   ]
  },
  {
   "cell_type": "code",
   "execution_count": null,
   "metadata": {},
   "outputs": [],
   "source": []
  },
  {
   "cell_type": "markdown",
   "metadata": {},
   "source": [
    "Number of tweets"
   ]
  },
  {
   "cell_type": "code",
   "execution_count": 5,
   "metadata": {},
   "outputs": [
    {
     "data": {
      "text/plain": [
       "1000"
      ]
     },
     "execution_count": 5,
     "metadata": {},
     "output_type": "execute_result"
    }
   ],
   "source": [
    "number_of_tweets=df['name'].count()\n",
    "number_of_tweets"
   ]
  },
  {
   "cell_type": "markdown",
   "metadata": {},
   "source": [
    "Likes"
   ]
  },
  {
   "cell_type": "code",
   "execution_count": 8,
   "metadata": {},
   "outputs": [
    {
     "data": {
      "text/plain": [
       "39.56"
      ]
     },
     "execution_count": 8,
     "metadata": {},
     "output_type": "execute_result"
    }
   ],
   "source": [
    "favourites_count=round(df['favourites_count'].sum()/1000000,2)\n",
    "favourites_count"
   ]
  },
  {
   "cell_type": "markdown",
   "metadata": {},
   "source": [
    "Users Tweet"
   ]
  },
  {
   "cell_type": "code",
   "execution_count": 11,
   "metadata": {},
   "outputs": [
    {
     "data": {
      "text/plain": [
       "948"
      ]
     },
     "execution_count": 11,
     "metadata": {},
     "output_type": "execute_result"
    }
   ],
   "source": [
    "users_count=df['name'].nunique()\n",
    "users_count"
   ]
  },
  {
   "cell_type": "markdown",
   "metadata": {},
   "source": [
    "Run Dash Server"
   ]
  },
  {
   "cell_type": "code",
   "execution_count": 5,
   "metadata": {},
   "outputs": [
    {
     "name": "stderr",
     "output_type": "stream",
     "text": [
      " * Running on http://127.0.0.1:8050/ (Press CTRL+C to quit)\n"
     ]
    }
   ],
   "source": [
    "# if __name__ == '__main__':\n",
    "#     app.run_server(debug=False)"
   ]
  }
 ],
 "metadata": {
  "kernelspec": {
   "display_name": "Python 3",
   "language": "python",
   "name": "python3"
  },
  "language_info": {
   "codemirror_mode": {
    "name": "ipython",
    "version": 3
   },
   "file_extension": ".py",
   "mimetype": "text/x-python",
   "name": "python",
   "nbconvert_exporter": "python",
   "pygments_lexer": "ipython3",
   "version": "3.6.5"
  }
 },
 "nbformat": 4,
 "nbformat_minor": 2
}
