{
 "cells": [
  {
   "cell_type": "markdown",
   "metadata": {},
   "source": [
    "This notebook demonstrate how to perform various analytics on tweeter tweets data"
   ]
  },
  {
   "cell_type": "markdown",
   "metadata": {},
   "source": [
    "Install dependencies"
   ]
  },
  {
   "cell_type": "code",
   "execution_count": 1,
   "metadata": {},
   "outputs": [],
   "source": [
    "# !pip install dash-bootstrap-components\n",
    "# !pip install dash-renderer"
   ]
  },
  {
   "cell_type": "markdown",
   "metadata": {},
   "source": [
    "Import required libraries"
   ]
  },
  {
   "cell_type": "code",
   "execution_count": 15,
   "metadata": {},
   "outputs": [],
   "source": [
    "import dash\n",
    "import dash_bootstrap_components as dbc\n",
    "import dash_core_components as dcc\n",
    "import plotly.graph_objects as go\n",
    "import dash_html_components as html\n",
    "from dash.dependencies import Input, Output,State\n",
    "import numpy as np\n",
    "import plotly.express as px\n",
    "from plotly.subplots import make_subplots\n",
    "from datetime import datetime, timedelta\n",
    "from email.utils import parsedate_tz\n",
    "\n",
    "import pandas as pd\n",
    "from geopandas.tools import geocode\n",
    "import geopandas\n",
    "from urllib.request import urlopen\n",
    "import json\n",
    "\n",
    "# Tweet extraction and processing\n",
    "import os\n",
    "import re\n",
    "import time\n",
    "import tweepy as tw\n",
    "from textblob import TextBlob"
   ]
  },
  {
   "cell_type": "code",
   "execution_count": 3,
   "metadata": {},
   "outputs": [],
   "source": [
    "app = dash.Dash(__name__, external_stylesheets=[dbc.themes.BOOTSTRAP])"
   ]
  },
  {
   "cell_type": "code",
   "execution_count": 4,
   "metadata": {},
   "outputs": [],
   "source": [
    "# Connection credentials\n",
    "consumer_key= 'NFIO7bIgwQpdCZ7p7rgewKXss'\n",
    "consumer_secret= '2QegNrIpcGCW6nCWFTL5JEsrDCmYZpQHJ8SdIT7V0ql5cQgFwV'\n",
    "access_token= '3049227557-36ln3qak9xbxHvgNos45cf3uScGxuUdaDAR4vqs'\n",
    "access_token_secret= 'pZ4Y0p31graKrAYAy41mYztvIrYFzof7awiTDWQr2ui9u'\n",
    "# End connection credentials\n",
    "\n",
    "# Define the AUTHHandler\n",
    "auth = tw.OAuthHandler(consumer_key, consumer_secret)\n",
    "auth.set_access_token(access_token, access_token_secret)\n",
    "api = tw.API(auth, wait_on_rate_limit=True)\n",
    "#End AUTHHandler"
   ]
  },
  {
   "cell_type": "code",
   "execution_count": 5,
   "metadata": {},
   "outputs": [],
   "source": [
    "def extract_tweets(search_words,no_of_tweets):\n",
    "    start_time = time.time()\n",
    "    # Define date and search Keyword\n",
    "    date_since =pd.to_datetime('today').strftime(\"%Y-%m-%d\")\n",
    "    #Define the cursor\n",
    "    tweets = tw.Cursor(api.search, q=search_words, lang=\"en\", since=date_since).items(no_of_tweets)\n",
    "    # Clean text\n",
    "    text_preprocess = lambda x: re.compile('\\#').sub('', re.compile('RT @').sub('@', x).strip())\n",
    "    # Create DataFrame \n",
    "    users_locs = [[tweet.user.screen_name,tweet.user.name,tweet.user.verified,\n",
    "             tweet.user.followers_count,tweet.user.friends_count,tweet.user.listed_count,\n",
    "             tweet.retweet_count,tweet.favorite_count,tweet.retweeted,tweet.entities,\n",
    "             tweet.user.favourites_count,\n",
    "             tweet.user.location,tweet.created_at,tweet.text,\n",
    "             re.sub(r\"http\\S+\", \"\", re.sub('@[^\\s]+','',text_preprocess(tweet.text))),\n",
    "             TextBlob(re.sub(r\"http\\S+\", \"\", re.sub('@[^\\s]+','',text_preprocess(tweet.text)))).sentiment[0],\n",
    "             TextBlob(re.sub(r\"http\\S+\", \"\", re.sub('@[^\\s]+','',text_preprocess(tweet.text)))).sentiment[1]\n",
    "                  ] for tweet in tweets]\n",
    "    cols=columns=['screen_name','name','user_verification','followers_count','friends_count',\n",
    "                  'listed_count','retweet_count','favorite_count','retweeted','entities','favourites_count',\n",
    "                  'location','created_at','text','clean_text','sentiment_polarity','sentiment_subjectivity']\n",
    "    df = pd.DataFrame(data=users_locs, columns=cols)\n",
    "    df[\"sentiment_polarity_color\"] = np.where(df[\"sentiment_polarity\"]<0, 'red', 'green')\n",
    "    print(\"--- %s seconds ---\" % (time.time() - start_time))\n",
    "    return df"
   ]
  },
  {
   "cell_type": "code",
   "execution_count": 7,
   "metadata": {},
   "outputs": [
    {
     "name": "stdout",
     "output_type": "stream",
     "text": [
      "--- 7.694837331771851 seconds ---\n"
     ]
    }
   ],
   "source": [
    "search_words = \"#Covid\"\n",
    "no_of_tweets=15\n",
    "df_online=extract_tweets(search_words,no_of_tweets)"
   ]
  },
  {
   "cell_type": "code",
   "execution_count": 8,
   "metadata": {},
   "outputs": [],
   "source": [
    "df_offline=pd.read_csv(\"../datasets/tweets.csv\")"
   ]
  },
  {
   "cell_type": "code",
   "execution_count": 9,
   "metadata": {},
   "outputs": [],
   "source": [
    "df=pd.DataFrame()\n",
    "if df_online.shape[0]==0:\n",
    "    df=df_offline\n",
    "else:\n",
    "    df=df_online.shape[0]"
   ]
  },
  {
   "cell_type": "code",
   "execution_count": 10,
   "metadata": {},
   "outputs": [
    {
     "data": {
      "text/html": [
       "<div>\n",
       "<style scoped>\n",
       "    .dataframe tbody tr th:only-of-type {\n",
       "        vertical-align: middle;\n",
       "    }\n",
       "\n",
       "    .dataframe tbody tr th {\n",
       "        vertical-align: top;\n",
       "    }\n",
       "\n",
       "    .dataframe thead th {\n",
       "        text-align: right;\n",
       "    }\n",
       "</style>\n",
       "<table border=\"1\" class=\"dataframe\">\n",
       "  <thead>\n",
       "    <tr style=\"text-align: right;\">\n",
       "      <th></th>\n",
       "      <th>Unnamed: 0</th>\n",
       "      <th>screen_name</th>\n",
       "      <th>name</th>\n",
       "      <th>user_verification</th>\n",
       "      <th>followers_count</th>\n",
       "      <th>friends_count</th>\n",
       "      <th>listed_count</th>\n",
       "      <th>retweet_count</th>\n",
       "      <th>favorite_count</th>\n",
       "      <th>retweeted</th>\n",
       "      <th>entities</th>\n",
       "      <th>favourites_count</th>\n",
       "      <th>location</th>\n",
       "      <th>created_at</th>\n",
       "      <th>text</th>\n",
       "      <th>clean_text</th>\n",
       "      <th>sentiment_polarity</th>\n",
       "      <th>sentiment_subjectivity</th>\n",
       "      <th>sentiment_polarity_color</th>\n",
       "    </tr>\n",
       "  </thead>\n",
       "  <tbody>\n",
       "    <tr>\n",
       "      <th>0</th>\n",
       "      <td>0</td>\n",
       "      <td>nat___price</td>\n",
       "      <td>natalie price</td>\n",
       "      <td>False</td>\n",
       "      <td>62</td>\n",
       "      <td>732</td>\n",
       "      <td>0</td>\n",
       "      <td>2</td>\n",
       "      <td>0</td>\n",
       "      <td>False</td>\n",
       "      <td>{'hashtags': [{'text': 'covid', 'indices': [45...</td>\n",
       "      <td>13671</td>\n",
       "      <td>Yorkshire and The Humber, England</td>\n",
       "      <td>2021-01-30 09:09:05</td>\n",
       "      <td>RT @NickTriggle: The devastating toll of the #...</td>\n",
       "      <td>The devastating toll of the covid pandemic on...</td>\n",
       "      <td>-0.550000</td>\n",
       "      <td>0.600000</td>\n",
       "      <td>red</td>\n",
       "    </tr>\n",
       "    <tr>\n",
       "      <th>1</th>\n",
       "      <td>1</td>\n",
       "      <td>libertad717</td>\n",
       "      <td>Punto</td>\n",
       "      <td>False</td>\n",
       "      <td>1084</td>\n",
       "      <td>4760</td>\n",
       "      <td>468</td>\n",
       "      <td>11</td>\n",
       "      <td>0</td>\n",
       "      <td>False</td>\n",
       "      <td>{'hashtags': [], 'symbols': [], 'user_mentions...</td>\n",
       "      <td>208</td>\n",
       "      <td>NaN</td>\n",
       "      <td>2021-01-30 09:09:00</td>\n",
       "      <td>RT @NATOBrazeB: Great to meet online @UN’s Und...</td>\n",
       "      <td>Great to meet online  Undersecretary for Glob...</td>\n",
       "      <td>0.400000</td>\n",
       "      <td>0.375000</td>\n",
       "      <td>green</td>\n",
       "    </tr>\n",
       "    <tr>\n",
       "      <th>2</th>\n",
       "      <td>2</td>\n",
       "      <td>marylouisepearc</td>\n",
       "      <td>marylouise lady of leisure</td>\n",
       "      <td>False</td>\n",
       "      <td>124</td>\n",
       "      <td>244</td>\n",
       "      <td>3</td>\n",
       "      <td>7</td>\n",
       "      <td>0</td>\n",
       "      <td>False</td>\n",
       "      <td>{'hashtags': [], 'symbols': [], 'user_mentions...</td>\n",
       "      <td>57448</td>\n",
       "      <td>NaN</td>\n",
       "      <td>2021-01-30 09:08:58</td>\n",
       "      <td>RT @SiCarswell: That screeching noise to be he...</td>\n",
       "      <td>That screeching noise to be heard is the EU C...</td>\n",
       "      <td>-0.008333</td>\n",
       "      <td>0.550000</td>\n",
       "      <td>red</td>\n",
       "    </tr>\n",
       "    <tr>\n",
       "      <th>3</th>\n",
       "      <td>3</td>\n",
       "      <td>JhSalford</td>\n",
       "      <td>JHSalford</td>\n",
       "      <td>False</td>\n",
       "      <td>177</td>\n",
       "      <td>177</td>\n",
       "      <td>0</td>\n",
       "      <td>336</td>\n",
       "      <td>0</td>\n",
       "      <td>False</td>\n",
       "      <td>{'hashtags': [{'text': 'COVID', 'indices': [76...</td>\n",
       "      <td>435</td>\n",
       "      <td>Salford, England</td>\n",
       "      <td>2021-01-30 09:08:56</td>\n",
       "      <td>RT @GabrielScally: Don't be silly. The UK gove...</td>\n",
       "      <td>Don't be silly. The UK government has complet...</td>\n",
       "      <td>-0.077778</td>\n",
       "      <td>0.751389</td>\n",
       "      <td>red</td>\n",
       "    </tr>\n",
       "    <tr>\n",
       "      <th>4</th>\n",
       "      <td>4</td>\n",
       "      <td>SarahEdmondsPhD</td>\n",
       "      <td>Fear is the MindKiller</td>\n",
       "      <td>False</td>\n",
       "      <td>817</td>\n",
       "      <td>1861</td>\n",
       "      <td>9</td>\n",
       "      <td>387</td>\n",
       "      <td>0</td>\n",
       "      <td>False</td>\n",
       "      <td>{'hashtags': [{'text': 'Covid', 'indices': [12...</td>\n",
       "      <td>53062</td>\n",
       "      <td>Flagstaff, AZ</td>\n",
       "      <td>2021-01-30 09:08:49</td>\n",
       "      <td>RT @AlexBerenson: So after four weeks more ser...</td>\n",
       "      <td>So after four weeks more serious adverse even...</td>\n",
       "      <td>0.083333</td>\n",
       "      <td>0.583333</td>\n",
       "      <td>green</td>\n",
       "    </tr>\n",
       "  </tbody>\n",
       "</table>\n",
       "</div>"
      ],
      "text/plain": [
       "   Unnamed: 0      screen_name                        name  user_verification  \\\n",
       "0           0      nat___price               natalie price              False   \n",
       "1           1      libertad717                       Punto              False   \n",
       "2           2  marylouisepearc  marylouise lady of leisure              False   \n",
       "3           3        JhSalford                   JHSalford              False   \n",
       "4           4  SarahEdmondsPhD      Fear is the MindKiller              False   \n",
       "\n",
       "   followers_count  friends_count  listed_count  retweet_count  \\\n",
       "0               62            732             0              2   \n",
       "1             1084           4760           468             11   \n",
       "2              124            244             3              7   \n",
       "3              177            177             0            336   \n",
       "4              817           1861             9            387   \n",
       "\n",
       "   favorite_count  retweeted  \\\n",
       "0               0      False   \n",
       "1               0      False   \n",
       "2               0      False   \n",
       "3               0      False   \n",
       "4               0      False   \n",
       "\n",
       "                                            entities  favourites_count  \\\n",
       "0  {'hashtags': [{'text': 'covid', 'indices': [45...             13671   \n",
       "1  {'hashtags': [], 'symbols': [], 'user_mentions...               208   \n",
       "2  {'hashtags': [], 'symbols': [], 'user_mentions...             57448   \n",
       "3  {'hashtags': [{'text': 'COVID', 'indices': [76...               435   \n",
       "4  {'hashtags': [{'text': 'Covid', 'indices': [12...             53062   \n",
       "\n",
       "                            location           created_at  \\\n",
       "0  Yorkshire and The Humber, England  2021-01-30 09:09:05   \n",
       "1                                NaN  2021-01-30 09:09:00   \n",
       "2                                NaN  2021-01-30 09:08:58   \n",
       "3                   Salford, England  2021-01-30 09:08:56   \n",
       "4                      Flagstaff, AZ  2021-01-30 09:08:49   \n",
       "\n",
       "                                                text  \\\n",
       "0  RT @NickTriggle: The devastating toll of the #...   \n",
       "1  RT @NATOBrazeB: Great to meet online @UN’s Und...   \n",
       "2  RT @SiCarswell: That screeching noise to be he...   \n",
       "3  RT @GabrielScally: Don't be silly. The UK gove...   \n",
       "4  RT @AlexBerenson: So after four weeks more ser...   \n",
       "\n",
       "                                          clean_text  sentiment_polarity  \\\n",
       "0   The devastating toll of the covid pandemic on...           -0.550000   \n",
       "1   Great to meet online  Undersecretary for Glob...            0.400000   \n",
       "2   That screeching noise to be heard is the EU C...           -0.008333   \n",
       "3   Don't be silly. The UK government has complet...           -0.077778   \n",
       "4   So after four weeks more serious adverse even...            0.083333   \n",
       "\n",
       "   sentiment_subjectivity sentiment_polarity_color  \n",
       "0                0.600000                      red  \n",
       "1                0.375000                    green  \n",
       "2                0.550000                      red  \n",
       "3                0.751389                      red  \n",
       "4                0.583333                    green  "
      ]
     },
     "execution_count": 10,
     "metadata": {},
     "output_type": "execute_result"
    }
   ],
   "source": [
    "df.head()"
   ]
  },
  {
   "cell_type": "code",
   "execution_count": null,
   "metadata": {},
   "outputs": [],
   "source": [
    "df.columns"
   ]
  },
  {
   "cell_type": "markdown",
   "metadata": {},
   "source": [
    "Number of tweets"
   ]
  },
  {
   "cell_type": "code",
   "execution_count": null,
   "metadata": {},
   "outputs": [],
   "source": [
    "number_of_tweets=df['name'].count()\n",
    "number_of_tweets"
   ]
  },
  {
   "cell_type": "markdown",
   "metadata": {},
   "source": [
    "Likes"
   ]
  },
  {
   "cell_type": "code",
   "execution_count": null,
   "metadata": {},
   "outputs": [],
   "source": [
    "favourites_count=round(df['favourites_count'].sum()/1000000,2)\n",
    "favourites_count"
   ]
  },
  {
   "cell_type": "markdown",
   "metadata": {},
   "source": [
    "Users Tweet"
   ]
  },
  {
   "cell_type": "code",
   "execution_count": null,
   "metadata": {},
   "outputs": [],
   "source": [
    "users_count=df['name'].nunique()\n",
    "users_count"
   ]
  },
  {
   "cell_type": "markdown",
   "metadata": {},
   "source": [
    "Sentiment polarity"
   ]
  },
  {
   "cell_type": "code",
   "execution_count": null,
   "metadata": {},
   "outputs": [],
   "source": [
    "sentiment_polarity=round(df['sentiment_polarity'].mean(),2)\n",
    "sentiment_polarity"
   ]
  },
  {
   "cell_type": "markdown",
   "metadata": {},
   "source": [
    "Sentiment polarity and subjectivity line graph"
   ]
  },
  {
   "cell_type": "code",
   "execution_count": null,
   "metadata": {
    "scrolled": false
   },
   "outputs": [],
   "source": [
    "fig=go.Figure()\n",
    "\n",
    "fig.add_trace(go.Scatter(x=df['created_at'], y=df['sentiment_polarity'], name='Polarity',line = dict(color='skyblue'))) \n",
    "fig.update_layout(dict(autosize=True,margin=dict(t=0,b=0,l=0,r=0),xaxis=dict(title = 'Period', ticklen=2, zeroline=False)))\n",
    "# fig.update_layout(legend=dict(yanchor=\"top\",y=0.99,xanchor=\"left\",x=0.01),title={'text': \"Amazon\",'y':0.75,'x':0.4,'xanchor': 'center','yanchor': 'middle'})\n",
    "\n",
    "fig.show()"
   ]
  },
  {
   "cell_type": "markdown",
   "metadata": {},
   "source": [
    "Sentiment polarity by region and users"
   ]
  },
  {
   "cell_type": "code",
   "execution_count": null,
   "metadata": {},
   "outputs": [],
   "source": [
    "df=df.dropna(subset=['name', 'location'], how='any')\n",
    "regional_avg_sentiment_df=pd.DataFrame(df.groupby(['location'],as_index=False)['sentiment_polarity'].mean()).head(50)\n",
    "regional_avg_sentiment_df=regional_avg_sentiment_df[(regional_avg_sentiment_df['sentiment_polarity'] != 0.000)]\n",
    "user_avg_sentiment_df=pd.DataFrame(df.groupby(['name'],as_index=False)['sentiment_polarity'].mean()).head(50)\n",
    "user_avg_sentiment_df=user_avg_sentiment_df[(user_avg_sentiment_df['sentiment_polarity'] != 0.000)]\n",
    "# dff=regional_avg_sentiment_df[regional_avg_sentiment_df['location'].isin([region])]\n",
    "\n",
    "fig = make_subplots(rows=1, cols=2,shared_xaxes=False,shared_yaxes=True,vertical_spacing=0.03,specs=[[{\"type\": \"bar\"},{\"type\": \"bar\"}]],\n",
    "    column_width=[50, 50],horizontal_spacing=0.015)\n",
    "\n",
    "fig.add_trace(go.Bar(name='Region',x=regional_avg_sentiment_df['location'].str[:20],y=regional_avg_sentiment_df['sentiment_polarity'],marker=dict(color=\"skyblue\"), showlegend=True),row=1, col=1)\n",
    "fig.add_trace(go.Bar(name='User',x=user_avg_sentiment_df[\"name\"].str[:20],y=user_avg_sentiment_df[\"sentiment_polarity\"], marker=dict(color=\"teal\"), showlegend=True),row=1, col=2)\n",
    "fig.update_layout(dict(autosize=True,margin=dict(t=0,b=0,l=0,r=0),xaxis=dict(ticklen=2, zeroline=False),legend=dict(yanchor=\"top\",y=0.99,xanchor=\"left\",x=0.01),))\n",
    "\n",
    "fig.show()"
   ]
  },
  {
   "cell_type": "markdown",
   "metadata": {},
   "source": [
    "Using conditional filter in pandas"
   ]
  },
  {
   "cell_type": "code",
   "execution_count": null,
   "metadata": {},
   "outputs": [],
   "source": [
    "df[(df['created_at'] > '2021-01-28') & (df['created_at'] <= '2021-01-29')].head()"
   ]
  },
  {
   "cell_type": "markdown",
   "metadata": {},
   "source": [
    "Get max and min value based on date"
   ]
  },
  {
   "cell_type": "code",
   "execution_count": null,
   "metadata": {},
   "outputs": [],
   "source": [
    "max(df['created_at'])\n",
    "min(df['created_at'])"
   ]
  },
  {
   "cell_type": "code",
   "execution_count": null,
   "metadata": {},
   "outputs": [],
   "source": [
    "df=df[~df['location'].str.isnumeric()==True]"
   ]
  },
  {
   "cell_type": "markdown",
   "metadata": {},
   "source": [
    "Sentiment Geo"
   ]
  },
  {
   "cell_type": "markdown",
   "metadata": {},
   "source": [
    "geocode the location to enrich with coordinates"
   ]
  },
  {
   "cell_type": "code",
   "execution_count": null,
   "metadata": {},
   "outputs": [],
   "source": [
    "cities_df = geopandas.read_file(geopandas.datasets.get_path('naturalearth_cities'))\n",
    "# world = geopandas.read_file(geopandas.datasets.get_path('naturalearth_lowres'))"
   ]
  },
  {
   "cell_type": "code",
   "execution_count": null,
   "metadata": {},
   "outputs": [],
   "source": [
    "geo_df=df[df['location'].isin(cities_df['name'])]"
   ]
  },
  {
   "cell_type": "code",
   "execution_count": null,
   "metadata": {},
   "outputs": [],
   "source": [
    "def custom_geocoder(address):\n",
    "    try:\n",
    "        dataframe = geocode(address.strip() , provider=\"nominatim\" , user_agent = 'csc_user_ht')\n",
    "        point = dataframe.geometry.iloc[0]\n",
    "        return pd.Series({'Latitude': point.y, 'Longitude': point.x})\n",
    "    except:\n",
    "        pass"
   ]
  },
  {
   "cell_type": "code",
   "execution_count": null,
   "metadata": {},
   "outputs": [],
   "source": [
    "geo_df[['latitude' , 'longitude']]= geo_df.iloc[:,12].apply( lambda x: custom_geocoder(x))"
   ]
  },
  {
   "cell_type": "code",
   "execution_count": null,
   "metadata": {},
   "outputs": [],
   "source": [
    "geo_df.head()"
   ]
  },
  {
   "cell_type": "code",
   "execution_count": null,
   "metadata": {},
   "outputs": [],
   "source": [
    "geo_df['normalized_sentiment']=\"Location : \"+geo_df['location']+ \" <br>Sentiment : \"+geo_df['sentiment_polarity'].astype(str)"
   ]
  },
  {
   "cell_type": "code",
   "execution_count": null,
   "metadata": {},
   "outputs": [],
   "source": [
    "px.set_mapbox_access_token(open(\"../assets/mapboxtoken.mapbox_token\").read())\n",
    "fig = px.scatter_mapbox(geo_df,\n",
    "                        lat=geo_df.latitude,\n",
    "                        lon=geo_df.longitude,\n",
    "                        size=geo_df['sentiment_polarity']+1,\n",
    "#                         hover_name=df[\"normalized_sentiment\"],\n",
    "                        color=\"sentiment_polarity\",\n",
    "                        text=geo_df['location'],\n",
    "#                         size_max  =20,\n",
    "                        mapbox_style ='carto-positron',\n",
    "                        labels  =geo_df['location'],\n",
    "                        \n",
    "                        zoom=1)\n",
    "fig.show()"
   ]
  },
  {
   "cell_type": "markdown",
   "metadata": {},
   "source": [
    "Choropleth maps"
   ]
  },
  {
   "cell_type": "markdown",
   "metadata": {},
   "source": [
    "Load geojson"
   ]
  },
  {
   "cell_type": "code",
   "execution_count": null,
   "metadata": {},
   "outputs": [],
   "source": [
    "with open('../datasets/countries.geojson') as response:\n",
    "    country_geojson = json.load(response)"
   ]
  },
  {
   "cell_type": "markdown",
   "metadata": {},
   "source": [
    "Prepare data geo- sentiment data"
   ]
  },
  {
   "cell_type": "code",
   "execution_count": null,
   "metadata": {},
   "outputs": [],
   "source": [
    "# polarity\n",
    "sentiment_polarity_geo_data_df=df.dropna(subset=['name', 'location'], how='any')\n",
    "sentiment_polarity_geo_data_df=pd.DataFrame(sentiment_polarity_geo_data_df.groupby(['location'],as_index=False)['sentiment_polarity'].mean())\n",
    "sentiment_polarity_geo_data_df.columns = ['ADMIN', 'sentiment_polarity']\n",
    "# subjectivity\n",
    "sentiment_subjectivity_geo_data_df=df.dropna(subset=['name', 'location'], how='any')\n",
    "sentiment_subjectivity_geo_data_df=pd.DataFrame(sentiment_subjectivity_geo_data_df.groupby(['location'],as_index=False)['sentiment_subjectivity'].mean())\n",
    "sentiment_subjectivity_geo_data_df.columns = ['ADMIN', 'sentiment_subjectivity']"
   ]
  },
  {
   "cell_type": "markdown",
   "metadata": {},
   "source": [
    "Merge geopandas and sentiment data"
   ]
  },
  {
   "cell_type": "code",
   "execution_count": null,
   "metadata": {},
   "outputs": [],
   "source": [
    "# ploarity\n",
    "sentiment_polarity_geo_df = geopandas.GeoDataFrame.from_features(country_geojson[\"features\"]).merge(sentiment_polarity_geo_data_df, on=\"ADMIN\").set_index(\"ADMIN\")\n",
    "sentiment_polarity_geo_df.rename(columns={'Admin': 'location'},inplace=True)\n",
    "# subjectivity\n",
    "sentiment_subjectivity_geo_df = geopandas.GeoDataFrame.from_features(country_geojson[\"features\"]).merge(sentiment_subjectivity_geo_data_df, on=\"ADMIN\").set_index(\"ADMIN\")\n",
    "sentiment_subjectivity_geo_df=sentiment_subjectivity_geo_df.rename(columns={'Admin': 'location'})"
   ]
  },
  {
   "cell_type": "markdown",
   "metadata": {},
   "source": [
    "Save the data for use in dash deployment"
   ]
  },
  {
   "cell_type": "code",
   "execution_count": null,
   "metadata": {},
   "outputs": [],
   "source": [
    "# sentiment_polarity_geo_df.to_csv(\"../datasets/sentiment_polarity_geo_data.csv\")\n",
    "# sentiment_subjectivity_geo_df.to_csv(\"../datasets/sentiment_subjectivity_geo_data.csv\")"
   ]
  },
  {
   "cell_type": "code",
   "execution_count": null,
   "metadata": {},
   "outputs": [],
   "source": [
    "sentiment_polarity_geo_df.head()"
   ]
  },
  {
   "cell_type": "code",
   "execution_count": null,
   "metadata": {},
   "outputs": [],
   "source": [
    "sentiment_subjectivity_geo_df.head()"
   ]
  },
  {
   "cell_type": "markdown",
   "metadata": {},
   "source": [
    "Plot map"
   ]
  },
  {
   "cell_type": "code",
   "execution_count": null,
   "metadata": {},
   "outputs": [],
   "source": [
    "# polarity\n",
    "fig = px.choropleth_mapbox(sentiment_polarity_geo_df,\n",
    "                           geojson=sentiment_polarity_geo_df.geometry,\n",
    "                           locations=sentiment_polarity_geo_df.index,\n",
    "                           color=\"sentiment_polarity\",\n",
    "#                            center={\"lat\": 45.5517, \"lon\": -73.7073},\n",
    "                           mapbox_style=\"carto-positron\",\n",
    "                           zoom=0.5)\n",
    "fig.update_layout(dict(autosize=True,margin=dict(t=0,b=0,l=0,r=0),xaxis=dict(ticklen=2, zeroline=False),legend=dict(yanchor=\"top\",y=0.99,xanchor=\"left\",x=0.01),))\n",
    "\n",
    "fig.show()"
   ]
  },
  {
   "cell_type": "code",
   "execution_count": null,
   "metadata": {},
   "outputs": [],
   "source": [
    "# subjectivity\n",
    "fig = px.choropleth_mapbox(sentiment_subjectivity_geo_df,\n",
    "                           geojson=sentiment_subjectivity_geo_df.geometry,\n",
    "                           locations=sentiment_subjectivity_geo_df.index,\n",
    "                           color=\"sentiment_subjectivity\",\n",
    "#                            center={\"lat\": 45.5517, \"lon\": -73.7073},\n",
    "                           mapbox_style=\"carto-positron\",\n",
    "                           zoom=0.75)\n",
    "fig.update_layout(dict(autosize=True,margin=dict(t=0,b=0,l=0,r=0),xaxis=dict(ticklen=2, zeroline=False),legend=dict(yanchor=\"top\",y=0.99,xanchor=\"left\",x=0.01),))\n",
    "\n",
    "fig.show()"
   ]
  },
  {
   "cell_type": "markdown",
   "metadata": {},
   "source": [
    "Run Server"
   ]
  },
  {
   "cell_type": "code",
   "execution_count": null,
   "metadata": {},
   "outputs": [],
   "source": [
    "# if __name__ == '__main__':\n",
    "#     app.run_server(debug=False)"
   ]
  },
  {
   "cell_type": "code",
   "execution_count": null,
   "metadata": {},
   "outputs": [],
   "source": []
  }
 ],
 "metadata": {
  "kernelspec": {
   "display_name": "Python 3",
   "language": "python",
   "name": "python3"
  },
  "language_info": {
   "codemirror_mode": {
    "name": "ipython",
    "version": 3
   },
   "file_extension": ".py",
   "mimetype": "text/x-python",
   "name": "python",
   "nbconvert_exporter": "python",
   "pygments_lexer": "ipython3",
   "version": "3.6.5"
  }
 },
 "nbformat": 4,
 "nbformat_minor": 2
}
